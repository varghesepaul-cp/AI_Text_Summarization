{
 "cells": [
  {
   "cell_type": "code",
   "execution_count": 1,
   "metadata": {},
   "outputs": [],
   "source": [
    "text = '''Tennis is played on a rectangular, flat surface. The court is 78 feet (23.77 m) long, and 27 feet (8.2 m) wide for singles matches and 36 ft (11 m) for doubles matches.[65] Additional clear space around the court is required in order for players to reach overrun balls. A net is stretched across the full width of the court, parallel with the baselines, dividing it into two equal ends. It is held up by either a cord or metal cable of diameter no greater than 0.8 cm (1⁄3 in).[66] The net is 3 feet 6 inches (1.07 m) high at the posts and 3 feet (0.91 m) high in the centre.[65] The net posts are 3 feet (0.91 m) outside the doubles court on each side or, for a singles net, 3 feet (0.91 m) outside the singles court on each side.\n",
    "\n",
    "The modern tennis court owes its design to Major Walter Clopton Wingfield. In 1873, Wingfield patented a court much the same as the current one for his stické tennis (sphairistike). This template was modified in 1875 to the court design that exists today, with markings similar to Wingfield's version, but with the hourglass shape of his court changed to a rectangle.[67]\n",
    "\n",
    "Tennis is unusual in that it is played on a variety of surfaces.[68] Grass, clay, and hard courts of concrete or asphalt topped with acrylic are the most common. Occasionally carpet is used for indoor play, with hardwood flooring having been historically used. Artificial turf courts can also be found.\n",
    "\n",
    "Lines\n",
    "The lines that delineate the width of the court are called the baseline (farthest back) and the service line (middle of the court). The short mark in the centre of each baseline is referred to as either the hash mark or the centre mark. The outermost lines that make up the length are called the doubles sidelines; they are the boundaries for doubles matches. The lines to the inside of the doubles sidelines are the singles sidelines, and are the boundaries in singles play. The area between a doubles sideline and the nearest singles sideline is called the doubles alley, playable in doubles play. The line that runs across the centre of a player's side of the court is called the service line because the serve must be delivered into the area between the service line and the net on the receiving side. Despite its name, this is not where a player legally stands when making a serve.[69]\n",
    "\n",
    "The line dividing the service line in two is called the centre line or centre service line. The boxes this centre line creates are called the service boxes; depending on a player's position, they have to hit the ball into one of these when serving.[70] A ball is out only if none of it has hit the area inside the lines, or the line, upon its first bounce. All lines are required to be between 1 and 2 inches (25 and 51 mm) in width, with the exception of the baseline which can be up to 4 inches (100 mm) wide, although in practice it is often the same width as the others.[69]\n",
    "\n",
    "Play of a single point\n",
    "Main article: Point (tennis)\n",
    "\n",
    "Two players before a serve.\n",
    "The players or teams start on opposite sides of the net. One player is designated the server, and the opposing player is the receiver. The choice to be server or receiver in the first game and the choice of ends is decided by a coin toss before the warm-up starts. Service alternates game by game between the two players or teams. For each point, the server starts behind the baseline, between the centre mark and the sideline. The receiver may start anywhere on their side of the net. When the receiver is ready, the server will serve, although the receiver must play to the pace of the server.\n",
    "\n",
    "For a service to be legal, the ball must travel over the net without touching it into the diagonally opposite service box. If the ball hits the net but lands in the service box, this is a let or net service, which is void, and the server retakes that serve. The player can serve any number of let services in a point and they are always treated as voids and not as faults. A fault is a serve that falls long or wide of the service box, or does not clear the net. There is also a \"foot fault\" when a player's foot touches the baseline or an extension of the centre mark before the ball is hit. If the second service, after a fault, is also a fault, the server double faults, and the receiver wins the point. However, if the serve is in, it is considered a legal service.\n",
    "\n",
    "A legal service starts a rally, in which the players alternate hitting the ball across the net. A legal return consists of a player hitting the ball so that it falls in the server's court, before it has bounced twice or hit any fixtures except the net. A player or team cannot hit the ball twice in a row. The ball must travel over or round the net into the other players' court. A ball that hits the net during a rally is considered a legal return as long as it crosses into the opposite side of the court. The first player or team to fail to make a legal return loses the point. The server then moves to the other side of the service line at the start of a new point.[71]\n",
    "\n",
    "'''"
   ]
  },
  {
   "cell_type": "code",
   "execution_count": 2,
   "metadata": {},
   "outputs": [
    {
     "data": {
      "text/plain": [
       "5012"
      ]
     },
     "execution_count": 2,
     "metadata": {},
     "output_type": "execute_result"
    }
   ],
   "source": [
    "len(text)"
   ]
  },
  {
   "cell_type": "code",
   "execution_count": 49,
   "metadata": {},
   "outputs": [],
   "source": [
    "import spacy\n",
    "from spacy.lang.en.stop_words import STOP_WORDS\n",
    "from string import punctuation"
   ]
  },
  {
   "cell_type": "code",
   "execution_count": 50,
   "metadata": {},
   "outputs": [],
   "source": [
    "nlp = spacy.load(\"en_core_web_sm\")\n",
    "doc = nlp(text)"
   ]
  },
  {
   "cell_type": "code",
   "execution_count": 51,
   "metadata": {},
   "outputs": [
    {
     "name": "stdout",
     "output_type": "stream",
     "text": [
      "['Tennis', 'is', 'played', 'on', 'a', 'rectangular', ',', 'flat', 'surface', '.', 'The', 'court', 'is', '78', 'feet', '(', '23.77', 'm', ')', 'long', ',', 'and', '27', 'feet', '(', '8.2', 'm', ')', 'wide', 'for', 'singles', 'matches', 'and', '36', 'ft', '(', '11', 'm', ')', 'for', 'doubles', 'matches.[65', ']', 'Additional', 'clear', 'space', 'around', 'the', 'court', 'is', 'required', 'in', 'order', 'for', 'players', 'to', 'reach', 'overrun', 'balls', '.', 'A', 'net', 'is', 'stretched', 'across', 'the', 'full', 'width', 'of', 'the', 'court', ',', 'parallel', 'with', 'the', 'baselines', ',', 'dividing', 'it', 'into', 'two', 'equal', 'ends', '.', 'It', 'is', 'held', 'up', 'by', 'either', 'a', 'cord', 'or', 'metal', 'cable', 'of', 'diameter', 'no', 'greater', 'than', '0.8', 'cm', '(', '1⁄3', 'in).[66', ']', 'The', 'net', 'is', '3', 'feet', '6', 'inches', '(', '1.07', 'm', ')', 'high', 'at', 'the', 'posts', 'and', '3', 'feet', '(', '0.91', 'm', ')', 'high', 'in', 'the', 'centre.[65', ']', 'The', 'net', 'posts', 'are', '3', 'feet', '(', '0.91', 'm', ')', 'outside', 'the', 'doubles', 'court', 'on', 'each', 'side', 'or', ',', 'for', 'a', 'singles', 'net', ',', '3', 'feet', '(', '0.91', 'm', ')', 'outside', 'the', 'singles', 'court', 'on', 'each', 'side', '.', '\\n\\n', 'The', 'modern', 'tennis', 'court', 'owes', 'its', 'design', 'to', 'Major', 'Walter', 'Clopton', 'Wingfield', '.', 'In', '1873', ',', 'Wingfield', 'patented', 'a', 'court', 'much', 'the', 'same', 'as', 'the', 'current', 'one', 'for', 'his', 'stické', 'tennis', '(', 'sphairistike', ')', '.', 'This', 'template', 'was', 'modified', 'in', '1875', 'to', 'the', 'court', 'design', 'that', 'exists', 'today', ',', 'with', 'markings', 'similar', 'to', 'Wingfield', \"'s\", 'version', ',', 'but', 'with', 'the', 'hourglass', 'shape', 'of', 'his', 'court', 'changed', 'to', 'a', 'rectangle.[67', ']', '\\n\\n', 'Tennis', 'is', 'unusual', 'in', 'that', 'it', 'is', 'played', 'on', 'a', 'variety', 'of', 'surfaces.[68', ']', 'Grass', ',', 'clay', ',', 'and', 'hard', 'courts', 'of', 'concrete', 'or', 'asphalt', 'topped', 'with', 'acrylic', 'are', 'the', 'most', 'common', '.', 'Occasionally', 'carpet', 'is', 'used', 'for', 'indoor', 'play', ',', 'with', 'hardwood', 'flooring', 'having', 'been', 'historically', 'used', '.', 'Artificial', 'turf', 'courts', 'can', 'also', 'be', 'found', '.', '\\n\\n', 'Lines', '\\n', 'The', 'lines', 'that', 'delineate', 'the', 'width', 'of', 'the', 'court', 'are', 'called', 'the', 'baseline', '(', 'farthest', 'back', ')', 'and', 'the', 'service', 'line', '(', 'middle', 'of', 'the', 'court', ')', '.', 'The', 'short', 'mark', 'in', 'the', 'centre', 'of', 'each', 'baseline', 'is', 'referred', 'to', 'as', 'either', 'the', 'hash', 'mark', 'or', 'the', 'centre', 'mark', '.', 'The', 'outermost', 'lines', 'that', 'make', 'up', 'the', 'length', 'are', 'called', 'the', 'doubles', 'sidelines', ';', 'they', 'are', 'the', 'boundaries', 'for', 'doubles', 'matches', '.', 'The', 'lines', 'to', 'the', 'inside', 'of', 'the', 'doubles', 'sidelines', 'are', 'the', 'singles', 'sidelines', ',', 'and', 'are', 'the', 'boundaries', 'in', 'singles', 'play', '.', 'The', 'area', 'between', 'a', 'doubles', 'sideline', 'and', 'the', 'nearest', 'singles', 'sideline', 'is', 'called', 'the', 'doubles', 'alley', ',', 'playable', 'in', 'doubles', 'play', '.', 'The', 'line', 'that', 'runs', 'across', 'the', 'centre', 'of', 'a', 'player', \"'s\", 'side', 'of', 'the', 'court', 'is', 'called', 'the', 'service', 'line', 'because', 'the', 'serve', 'must', 'be', 'delivered', 'into', 'the', 'area', 'between', 'the', 'service', 'line', 'and', 'the', 'net', 'on', 'the', 'receiving', 'side', '.', 'Despite', 'its', 'name', ',', 'this', 'is', 'not', 'where', 'a', 'player', 'legally', 'stands', 'when', 'making', 'a', 'serve.[69', ']', '\\n\\n', 'The', 'line', 'dividing', 'the', 'service', 'line', 'in', 'two', 'is', 'called', 'the', 'centre', 'line', 'or', 'centre', 'service', 'line', '.', 'The', 'boxes', 'this', 'centre', 'line', 'creates', 'are', 'called', 'the', 'service', 'boxes', ';', 'depending', 'on', 'a', 'player', \"'s\", 'position', ',', 'they', 'have', 'to', 'hit', 'the', 'ball', 'into', 'one', 'of', 'these', 'when', 'serving.[70', ']', 'A', 'ball', 'is', 'out', 'only', 'if', 'none', 'of', 'it', 'has', 'hit', 'the', 'area', 'inside', 'the', 'lines', ',', 'or', 'the', 'line', ',', 'upon', 'its', 'first', 'bounce', '.', 'All', 'lines', 'are', 'required', 'to', 'be', 'between', '1', 'and', '2', 'inches', '(', '25', 'and', '51', 'mm', ')', 'in', 'width', ',', 'with', 'the', 'exception', 'of', 'the', 'baseline', 'which', 'can', 'be', 'up', 'to', '4', 'inches', '(', '100', 'mm', ')', 'wide', ',', 'although', 'in', 'practice', 'it', 'is', 'often', 'the', 'same', 'width', 'as', 'the', 'others.[69', ']', '\\n\\n', 'Play', 'of', 'a', 'single', 'point', '\\n', 'Main', 'article', ':', 'Point', '(', 'tennis', ')', '\\n\\n', 'Two', 'players', 'before', 'a', 'serve', '.', '\\n', 'The', 'players', 'or', 'teams', 'start', 'on', 'opposite', 'sides', 'of', 'the', 'net', '.', 'One', 'player', 'is', 'designated', 'the', 'server', ',', 'and', 'the', 'opposing', 'player', 'is', 'the', 'receiver', '.', 'The', 'choice', 'to', 'be', 'server', 'or', 'receiver', 'in', 'the', 'first', 'game', 'and', 'the', 'choice', 'of', 'ends', 'is', 'decided', 'by', 'a', 'coin', 'toss', 'before', 'the', 'warm', '-', 'up', 'starts', '.', 'Service', 'alternates', 'game', 'by', 'game', 'between', 'the', 'two', 'players', 'or', 'teams', '.', 'For', 'each', 'point', ',', 'the', 'server', 'starts', 'behind', 'the', 'baseline', ',', 'between', 'the', 'centre', 'mark', 'and', 'the', 'sideline', '.', 'The', 'receiver', 'may', 'start', 'anywhere', 'on', 'their', 'side', 'of', 'the', 'net', '.', 'When', 'the', 'receiver', 'is', 'ready', ',', 'the', 'server', 'will', 'serve', ',', 'although', 'the', 'receiver', 'must', 'play', 'to', 'the', 'pace', 'of', 'the', 'server', '.', '\\n\\n', 'For', 'a', 'service', 'to', 'be', 'legal', ',', 'the', 'ball', 'must', 'travel', 'over', 'the', 'net', 'without', 'touching', 'it', 'into', 'the', 'diagonally', 'opposite', 'service', 'box', '.', 'If', 'the', 'ball', 'hits', 'the', 'net', 'but', 'lands', 'in', 'the', 'service', 'box', ',', 'this', 'is', 'a', 'let', 'or', 'net', 'service', ',', 'which', 'is', 'void', ',', 'and', 'the', 'server', 'retakes', 'that', 'serve', '.', 'The', 'player', 'can', 'serve', 'any', 'number', 'of', 'let', 'services', 'in', 'a', 'point', 'and', 'they', 'are', 'always', 'treated', 'as', 'voids', 'and', 'not', 'as', 'faults', '.', 'A', 'fault', 'is', 'a', 'serve', 'that', 'falls', 'long', 'or', 'wide', 'of', 'the', 'service', 'box', ',', 'or', 'does', 'not', 'clear', 'the', 'net', '.', 'There', 'is', 'also', 'a', '\"', 'foot', 'fault', '\"', 'when', 'a', 'player', \"'s\", 'foot', 'touches', 'the', 'baseline', 'or', 'an', 'extension', 'of', 'the', 'centre', 'mark', 'before', 'the', 'ball', 'is', 'hit', '.', 'If', 'the', 'second', 'service', ',', 'after', 'a', 'fault', ',', 'is', 'also', 'a', 'fault', ',', 'the', 'server', 'double', 'faults', ',', 'and', 'the', 'receiver', 'wins', 'the', 'point', '.', 'However', ',', 'if', 'the', 'serve', 'is', 'in', ',', 'it', 'is', 'considered', 'a', 'legal', 'service', '.', '\\n\\n', 'A', 'legal', 'service', 'starts', 'a', 'rally', ',', 'in', 'which', 'the', 'players', 'alternate', 'hitting', 'the', 'ball', 'across', 'the', 'net', '.', 'A', 'legal', 'return', 'consists', 'of', 'a', 'player', 'hitting', 'the', 'ball', 'so', 'that', 'it', 'falls', 'in', 'the', 'server', \"'s\", 'court', ',', 'before', 'it', 'has', 'bounced', 'twice', 'or', 'hit', 'any', 'fixtures', 'except', 'the', 'net', '.', 'A', 'player', 'or', 'team', 'can', 'not', 'hit', 'the', 'ball', 'twice', 'in', 'a', 'row', '.', 'The', 'ball', 'must', 'travel', 'over', 'or', 'round', 'the', 'net', 'into', 'the', 'other', 'players', \"'\", 'court', '.', 'A', 'ball', 'that', 'hits', 'the', 'net', 'during', 'a', 'rally', 'is', 'considered', 'a', 'legal', 'return', 'as', 'long', 'as', 'it', 'crosses', 'into', 'the', 'opposite', 'side', 'of', 'the', 'court', '.', 'The', 'first', 'player', 'or', 'team', 'to', 'fail', 'to', 'make', 'a', 'legal', 'return', 'loses', 'the', 'point', '.', 'The', 'server', 'then', 'moves', 'to', 'the', 'other', 'side', 'of', 'the', 'service', 'line', 'at', 'the', 'start', 'of', 'a', 'new', 'point.[71', ']', '\\n\\n']\n"
     ]
    }
   ],
   "source": [
    "tokens = [token.text for token in doc]\n",
    "print(tokens)"
   ]
  },
  {
   "cell_type": "code",
   "execution_count": 52,
   "metadata": {},
   "outputs": [
    {
     "name": "stdout",
     "output_type": "stream",
     "text": [
      "!\"#$%&'()*+,-./:;<=>?@[\\]^_`{|}~\n",
      "!\"#$%&'()*+,-./:;<=>?@[\\]^_`{|}~\n",
      "\n"
     ]
    }
   ],
   "source": [
    "print(punctuation)\n",
    "punctuation = punctuation+'\\n'\n",
    "print(punctuation)"
   ]
  },
  {
   "cell_type": "markdown",
   "metadata": {},
   "source": [
    "Creating Word Frequency Counter"
   ]
  },
  {
   "cell_type": "code",
   "execution_count": 34,
   "metadata": {},
   "outputs": [
    {
     "name": "stdout",
     "output_type": "stream",
     "text": [
      "{'Tennis': 2, 'played': 2, 'rectangular': 1, 'flat': 1, 'surface': 1, 'court': 15, '78': 1, 'feet': 6, '23.77': 1, 'm': 7, 'long': 3, '27': 1, '8.2': 1, 'wide': 3, 'singles': 6, 'matches': 2, '36': 1, 'ft': 1, '11': 1, 'doubles': 8, 'matches.[65': 1, 'Additional': 1, 'clear': 2, 'space': 1, 'required': 2, 'order': 1, 'players': 6, 'reach': 1, 'overrun': 1, 'balls': 1, 'net': 15, 'stretched': 1, 'width': 4, 'parallel': 1, 'baselines': 1, 'dividing': 2, 'equal': 1, 'ends': 2, 'held': 1, 'cord': 1, 'metal': 1, 'cable': 1, 'diameter': 1, 'greater': 1, '0.8': 1, 'cm': 1, '1⁄3': 1, 'in).[66': 1, '3': 4, '6': 1, 'inches': 3, '1.07': 1, 'high': 2, 'posts': 2, '0.91': 3, 'centre.[65': 1, 'outside': 2, '\\n\\n': 9, 'modern': 1, 'tennis': 3, 'owes': 1, 'design': 2, 'Major': 1, 'Walter': 1, 'Clopton': 1, 'Wingfield': 3, '1873': 1, 'patented': 1, 'current': 1, 'stické': 1, 'sphairistike': 1, 'template': 1, 'modified': 1, '1875': 1, 'exists': 1, 'today': 1, 'markings': 1, 'similar': 1, 'version': 1, 'hourglass': 1, 'shape': 1, 'changed': 1, 'rectangle.[67': 1, 'unusual': 1, 'variety': 1, 'surfaces.[68': 1, 'Grass': 1, 'clay': 1, 'hard': 1, 'courts': 2, 'concrete': 1, 'asphalt': 1, 'topped': 1, 'acrylic': 1, 'common': 1, 'Occasionally': 1, 'carpet': 1, 'indoor': 1, 'play': 4, 'hardwood': 1, 'flooring': 1, 'having': 1, 'historically': 1, 'Artificial': 1, 'turf': 1, 'found': 1, 'Lines': 1, 'lines': 5, 'delineate': 1, 'called': 6, 'baseline': 5, 'farthest': 1, 'service': 15, 'line': 11, 'middle': 1, 'short': 1, 'mark': 5, 'centre': 8, 'referred': 1, 'hash': 1, 'outermost': 1, 'length': 1, 'sidelines': 3, 'boundaries': 2, 'inside': 2, 'area': 3, 'sideline': 3, 'nearest': 1, 'alley': 1, 'playable': 1, 'runs': 1, 'player': 10, 'serve': 7, 'delivered': 1, 'receiving': 1, 'Despite': 1, 'legally': 1, 'stands': 1, 'making': 1, 'serve.[69': 1, 'boxes': 2, 'creates': 1, 'depending': 1, 'position': 1, 'hit': 5, 'ball': 10, 'serving.[70': 1, 'bounce': 1, '1': 1, '2': 1, '25': 1, '51': 1, 'mm': 2, 'exception': 1, '4': 1, '100': 1, 'practice': 1, 'others.[69': 1, 'Play': 1, 'single': 1, 'point': 5, 'Main': 1, 'article': 1, 'Point': 1, 'teams': 2, 'start': 3, 'opposite': 3, 'sides': 1, 'designated': 1, 'server': 9, 'opposing': 1, 'receiver': 6, 'choice': 2, 'game': 3, 'decided': 1, 'coin': 1, 'toss': 1, 'warm': 1, 'starts': 3, 'Service': 1, 'alternates': 1, 'ready': 1, 'pace': 1, 'legal': 6, 'travel': 2, 'touching': 1, 'diagonally': 1, 'box': 3, 'hits': 2, 'lands': 1, 'let': 2, 'void': 1, 'retakes': 1, 'number': 1, 'services': 1, 'treated': 1, 'voids': 1, 'faults': 2, 'fault': 4, 'falls': 2, 'foot': 2, 'touches': 1, 'extension': 1, 'second': 1, 'double': 1, 'wins': 1, 'considered': 2, 'rally': 2, 'alternate': 1, 'hitting': 2, 'return': 3, 'consists': 1, 'bounced': 1, 'twice': 2, 'fixtures': 1, 'team': 2, 'row': 1, 'round': 1, 'crosses': 1, 'fail': 1, 'loses': 1, 'moves': 1, 'new': 1, 'point.[71': 1}\n"
     ]
    }
   ],
   "source": [
    "word_freq = {}\n",
    "stop_words = list(STOP_WORDS)\n",
    "for word in doc:\n",
    "    if word.text.lower() not in stop_words:\n",
    "        if word.text.lower() not in punctuation:\n",
    "            if word.text not in word_freq.keys():\n",
    "                word_freq[word.text] = 1\n",
    "            else:\n",
    "                word_freq[word.text] += 1\n",
    "print(word_freq)"
   ]
  },
  {
   "cell_type": "code",
   "execution_count": 35,
   "metadata": {},
   "outputs": [
    {
     "name": "stdout",
     "output_type": "stream",
     "text": [
      "15\n"
     ]
    }
   ],
   "source": [
    "max_freq = max(word_freq.values())\n",
    "print(max_freq)"
   ]
  },
  {
   "cell_type": "code",
   "execution_count": 36,
   "metadata": {},
   "outputs": [
    {
     "name": "stdout",
     "output_type": "stream",
     "text": [
      "{'Tennis': 0.13333333333333333, 'played': 0.13333333333333333, 'rectangular': 0.06666666666666667, 'flat': 0.06666666666666667, 'surface': 0.06666666666666667, 'court': 1.0, '78': 0.06666666666666667, 'feet': 0.4, '23.77': 0.06666666666666667, 'm': 0.4666666666666667, 'long': 0.2, '27': 0.06666666666666667, '8.2': 0.06666666666666667, 'wide': 0.2, 'singles': 0.4, 'matches': 0.13333333333333333, '36': 0.06666666666666667, 'ft': 0.06666666666666667, '11': 0.06666666666666667, 'doubles': 0.5333333333333333, 'matches.[65': 0.06666666666666667, 'Additional': 0.06666666666666667, 'clear': 0.13333333333333333, 'space': 0.06666666666666667, 'required': 0.13333333333333333, 'order': 0.06666666666666667, 'players': 0.4, 'reach': 0.06666666666666667, 'overrun': 0.06666666666666667, 'balls': 0.06666666666666667, 'net': 1.0, 'stretched': 0.06666666666666667, 'width': 0.26666666666666666, 'parallel': 0.06666666666666667, 'baselines': 0.06666666666666667, 'dividing': 0.13333333333333333, 'equal': 0.06666666666666667, 'ends': 0.13333333333333333, 'held': 0.06666666666666667, 'cord': 0.06666666666666667, 'metal': 0.06666666666666667, 'cable': 0.06666666666666667, 'diameter': 0.06666666666666667, 'greater': 0.06666666666666667, '0.8': 0.06666666666666667, 'cm': 0.06666666666666667, '1⁄3': 0.06666666666666667, 'in).[66': 0.06666666666666667, '3': 0.26666666666666666, '6': 0.06666666666666667, 'inches': 0.2, '1.07': 0.06666666666666667, 'high': 0.13333333333333333, 'posts': 0.13333333333333333, '0.91': 0.2, 'centre.[65': 0.06666666666666667, 'outside': 0.13333333333333333, '\\n\\n': 0.6, 'modern': 0.06666666666666667, 'tennis': 0.2, 'owes': 0.06666666666666667, 'design': 0.13333333333333333, 'Major': 0.06666666666666667, 'Walter': 0.06666666666666667, 'Clopton': 0.06666666666666667, 'Wingfield': 0.2, '1873': 0.06666666666666667, 'patented': 0.06666666666666667, 'current': 0.06666666666666667, 'stické': 0.06666666666666667, 'sphairistike': 0.06666666666666667, 'template': 0.06666666666666667, 'modified': 0.06666666666666667, '1875': 0.06666666666666667, 'exists': 0.06666666666666667, 'today': 0.06666666666666667, 'markings': 0.06666666666666667, 'similar': 0.06666666666666667, 'version': 0.06666666666666667, 'hourglass': 0.06666666666666667, 'shape': 0.06666666666666667, 'changed': 0.06666666666666667, 'rectangle.[67': 0.06666666666666667, 'unusual': 0.06666666666666667, 'variety': 0.06666666666666667, 'surfaces.[68': 0.06666666666666667, 'Grass': 0.06666666666666667, 'clay': 0.06666666666666667, 'hard': 0.06666666666666667, 'courts': 0.13333333333333333, 'concrete': 0.06666666666666667, 'asphalt': 0.06666666666666667, 'topped': 0.06666666666666667, 'acrylic': 0.06666666666666667, 'common': 0.06666666666666667, 'Occasionally': 0.06666666666666667, 'carpet': 0.06666666666666667, 'indoor': 0.06666666666666667, 'play': 0.26666666666666666, 'hardwood': 0.06666666666666667, 'flooring': 0.06666666666666667, 'having': 0.06666666666666667, 'historically': 0.06666666666666667, 'Artificial': 0.06666666666666667, 'turf': 0.06666666666666667, 'found': 0.06666666666666667, 'Lines': 0.06666666666666667, 'lines': 0.3333333333333333, 'delineate': 0.06666666666666667, 'called': 0.4, 'baseline': 0.3333333333333333, 'farthest': 0.06666666666666667, 'service': 1.0, 'line': 0.7333333333333333, 'middle': 0.06666666666666667, 'short': 0.06666666666666667, 'mark': 0.3333333333333333, 'centre': 0.5333333333333333, 'referred': 0.06666666666666667, 'hash': 0.06666666666666667, 'outermost': 0.06666666666666667, 'length': 0.06666666666666667, 'sidelines': 0.2, 'boundaries': 0.13333333333333333, 'inside': 0.13333333333333333, 'area': 0.2, 'sideline': 0.2, 'nearest': 0.06666666666666667, 'alley': 0.06666666666666667, 'playable': 0.06666666666666667, 'runs': 0.06666666666666667, 'player': 0.6666666666666666, 'serve': 0.4666666666666667, 'delivered': 0.06666666666666667, 'receiving': 0.06666666666666667, 'Despite': 0.06666666666666667, 'legally': 0.06666666666666667, 'stands': 0.06666666666666667, 'making': 0.06666666666666667, 'serve.[69': 0.06666666666666667, 'boxes': 0.13333333333333333, 'creates': 0.06666666666666667, 'depending': 0.06666666666666667, 'position': 0.06666666666666667, 'hit': 0.3333333333333333, 'ball': 0.6666666666666666, 'serving.[70': 0.06666666666666667, 'bounce': 0.06666666666666667, '1': 0.06666666666666667, '2': 0.06666666666666667, '25': 0.06666666666666667, '51': 0.06666666666666667, 'mm': 0.13333333333333333, 'exception': 0.06666666666666667, '4': 0.06666666666666667, '100': 0.06666666666666667, 'practice': 0.06666666666666667, 'others.[69': 0.06666666666666667, 'Play': 0.06666666666666667, 'single': 0.06666666666666667, 'point': 0.3333333333333333, 'Main': 0.06666666666666667, 'article': 0.06666666666666667, 'Point': 0.06666666666666667, 'teams': 0.13333333333333333, 'start': 0.2, 'opposite': 0.2, 'sides': 0.06666666666666667, 'designated': 0.06666666666666667, 'server': 0.6, 'opposing': 0.06666666666666667, 'receiver': 0.4, 'choice': 0.13333333333333333, 'game': 0.2, 'decided': 0.06666666666666667, 'coin': 0.06666666666666667, 'toss': 0.06666666666666667, 'warm': 0.06666666666666667, 'starts': 0.2, 'Service': 0.06666666666666667, 'alternates': 0.06666666666666667, 'ready': 0.06666666666666667, 'pace': 0.06666666666666667, 'legal': 0.4, 'travel': 0.13333333333333333, 'touching': 0.06666666666666667, 'diagonally': 0.06666666666666667, 'box': 0.2, 'hits': 0.13333333333333333, 'lands': 0.06666666666666667, 'let': 0.13333333333333333, 'void': 0.06666666666666667, 'retakes': 0.06666666666666667, 'number': 0.06666666666666667, 'services': 0.06666666666666667, 'treated': 0.06666666666666667, 'voids': 0.06666666666666667, 'faults': 0.13333333333333333, 'fault': 0.26666666666666666, 'falls': 0.13333333333333333, 'foot': 0.13333333333333333, 'touches': 0.06666666666666667, 'extension': 0.06666666666666667, 'second': 0.06666666666666667, 'double': 0.06666666666666667, 'wins': 0.06666666666666667, 'considered': 0.13333333333333333, 'rally': 0.13333333333333333, 'alternate': 0.06666666666666667, 'hitting': 0.13333333333333333, 'return': 0.2, 'consists': 0.06666666666666667, 'bounced': 0.06666666666666667, 'twice': 0.13333333333333333, 'fixtures': 0.06666666666666667, 'team': 0.13333333333333333, 'row': 0.06666666666666667, 'round': 0.06666666666666667, 'crosses': 0.06666666666666667, 'fail': 0.06666666666666667, 'loses': 0.06666666666666667, 'moves': 0.06666666666666667, 'new': 0.06666666666666667, 'point.[71': 0.06666666666666667}\n"
     ]
    }
   ],
   "source": [
    "for word in word_freq.keys():\n",
    "    word_freq[word] = word_freq[word]/max_freq\n",
    "print(word_freq)"
   ]
  },
  {
   "cell_type": "markdown",
   "metadata": {},
   "source": [
    "Calculating Sentence Score - Sentence Tokenization"
   ]
  },
  {
   "cell_type": "code",
   "execution_count": 37,
   "metadata": {},
   "outputs": [
    {
     "name": "stdout",
     "output_type": "stream",
     "text": [
      "[Tennis is played on a rectangular, flat surface., The court is 78 feet (23.77 m) long, and 27 feet (8.2 m) wide for singles matches and 36 ft (11 m) for doubles matches.[65] Additional clear space around the court is required in order for players to reach overrun balls., A net is stretched across the full width of the court, parallel with the baselines, dividing it into two equal ends., It is held up by either a cord or metal cable of diameter no greater than 0.8 cm (1⁄3 in).[66], The net is 3 feet 6 inches (1.07 m) high at the posts and 3 feet (0.91 m) high in the centre.[65], The net posts are 3 feet (0.91 m) outside the doubles court on each side or, for a singles net, 3 feet (0.91 m) outside the singles court on each side., \n",
      "\n",
      "The modern tennis court owes its design to Major Walter Clopton Wingfield., In 1873, Wingfield patented a court much the same as the current one for his stické tennis (sphairistike)., This template was modified in 1875 to the court design that exists today, with markings similar to Wingfield's version, but with the hourglass shape of his court changed to a rectangle.[67]\n",
      "\n",
      "Tennis is unusual in that it is played on a variety of surfaces.[68] Grass, clay, and hard courts of concrete or asphalt topped with acrylic are the most common., Occasionally carpet is used for indoor play, with hardwood flooring having been historically used., Artificial turf courts can also be found., \n",
      "\n",
      "Lines\n",
      "The lines that delineate the width of the court are called the baseline (farthest back) and the service line (middle of the court)., The short mark in the centre of each baseline is referred to as either the hash mark or the centre mark., The outermost lines that make up the length are called the doubles sidelines; they are the boundaries for doubles matches., The lines to the inside of the doubles sidelines are the singles sidelines, and are the boundaries in singles play., The area between a doubles sideline and the nearest singles sideline is called the doubles alley, playable in doubles play., The line that runs across the centre of a player's side of the court is called the service line because the serve must be delivered into the area between the service line and the net on the receiving side., Despite its name, this is not where a player legally stands when making a serve.[69]\n",
      "\n",
      "The line dividing the service line in two is called the centre line or centre service line., The boxes this centre line creates are called the service boxes; depending on a player's position, they have to hit the ball into one of these when serving.[70] A ball is out only if none of it has hit the area inside the lines, or the line, upon its first bounce., All lines are required to be between 1 and 2 inches (25 and 51 mm) in width, with the exception of the baseline which can be up to 4 inches (100 mm) wide, although in practice it is often the same width as the others.[69]\n",
      "\n",
      "Play of a single point\n",
      "Main article:, Point (tennis)\n",
      "\n",
      "Two players before a serve., \n",
      ", The players or teams start on opposite sides of the net., One player is designated the server, and the opposing player is the receiver., The choice to be server or receiver in the first game and the choice of ends is decided by a coin toss before the warm-up starts., Service alternates game by game between the two players or teams., For each point, the server starts behind the baseline, between the centre mark and the sideline., The receiver may start anywhere on their side of the net., When the receiver is ready, the server will serve, although the receiver must play to the pace of the server., \n",
      "\n",
      "For a service to be legal, the ball must travel over the net without touching it into the diagonally opposite service box., If the ball hits the net but lands in the service box, this is a let or net service, which is void, and the server retakes that serve., The player can serve any number of let services in a point and they are always treated as voids and not as faults., A fault is a serve that falls long or wide of the service box, or does not clear the net., There is also a \"foot fault\" when a player's foot touches the baseline or an extension of the centre mark before the ball is hit., If the second service, after a fault, is also a fault, the server double faults, and the receiver wins the point., However, if the serve is in, it is considered a legal service., \n",
      "\n",
      "A legal service starts a rally, in which the players alternate hitting the ball across the net., A legal return consists of a player hitting the ball so that it falls in the server's court, before it has bounced twice or hit any fixtures except the net., A player or team cannot hit the ball twice in a row., The ball must travel over or round the net into the other players' court., A ball that hits the net during a rally is considered a legal return as long as it crosses into the opposite side of the court., The first player or team to fail to make a legal return loses the point., The server then moves to the other side of the service line at the start of a new point.[71]\n",
      "\n",
      "]\n"
     ]
    }
   ],
   "source": [
    "sent_tokens = [sent for sent in doc.sents]\n",
    "print(sent_tokens)"
   ]
  },
  {
   "cell_type": "code",
   "execution_count": 38,
   "metadata": {},
   "outputs": [
    {
     "name": "stdout",
     "output_type": "stream",
     "text": [
      "{Tennis is played on a rectangular, flat surface.: 0.5333333333333333, The court is 78 feet (23.77 m) long, and 27 feet (8.2 m) wide for singles matches and 36 ft (11 m) for doubles matches.[65] Additional clear space around the court is required in order for players to reach overrun balls.: 7.2, A net is stretched across the full width of the court, parallel with the baselines, dividing it into two equal ends.: 2.8000000000000003, It is held up by either a cord or metal cable of diameter no greater than 0.8 cm (1⁄3 in).[66]: 0.6666666666666666, The net is 3 feet 6 inches (1.07 m) high at the posts and 3 feet (0.91 m) high in the centre.[65]: 4.266666666666667, The net posts are 3 feet (0.91 m) outside the doubles court on each side or, for a singles net, 3 feet (0.91 m) outside the singles court on each side.: 8.400000000000002, \n",
      "\n",
      "The modern tennis court owes its design to Major Walter Clopton Wingfield.: 2.066666666666667, In 1873, Wingfield patented a court much the same as the current one for his stické tennis (sphairistike).: 1.5333333333333332, This template was modified in 1875 to the court design that exists today, with markings similar to Wingfield's version, but with the hourglass shape of his court changed to a rectangle.[67]\n",
      "\n",
      "Tennis is unusual in that it is played on a variety of surfaces.[68] Grass, clay, and hard courts of concrete or asphalt topped with acrylic are the most common.: 4.666666666666666, Occasionally carpet is used for indoor play, with hardwood flooring having been historically used.: 0.6666666666666666, Artificial turf courts can also be found.: 0.26666666666666666, \n",
      "\n",
      "Lines\n",
      "The lines that delineate the width of the court are called the baseline (farthest back) and the service line (middle of the court).: 6.2, The short mark in the centre of each baseline is referred to as either the hash mark or the centre mark.: 2.6, The outermost lines that make up the length are called the doubles sidelines; they are the boundaries for doubles matches.: 2.4, The lines to the inside of the doubles sidelines are the singles sidelines, and are the boundaries in singles play.: 2.6, The area between a doubles sideline and the nearest singles sideline is called the doubles alley, playable in doubles play.: 3.466666666666667, The line that runs across the centre of a player's side of the court is called the service line because the serve must be delivered into the area between the service line and the net on the receiving side.: 8.666666666666668, Despite its name, this is not where a player legally stands when making a serve.[69]\n",
      "\n",
      "The line dividing the service line in two is called the centre line or centre service line.: 8.066666666666666, The boxes this centre line creates are called the service boxes; depending on a player's position, they have to hit the ball into one of these when serving.[70] A ball is out only if none of it has hit the area inside the lines, or the line, upon its first bounce.: 7.333333333333334, All lines are required to be between 1 and 2 inches (25 and 51 mm) in width, with the exception of the baseline which can be up to 4 inches (100 mm) wide, although in practice it is often the same width as the others.[69]\n",
      "\n",
      "Play of a single point\n",
      "Main article:: 4.133333333333334, Point (tennis)\n",
      "\n",
      "Two players before a serve.: 2.0, The players or teams start on opposite sides of the net.: 2.0, One player is designated the server, and the opposing player is the receiver.: 2.4666666666666663, The choice to be server or receiver in the first game and the choice of ends is decided by a coin toss before the warm-up starts.: 2.0666666666666664, Service alternates game by game between the two players or teams.: 2.0, For each point, the server starts behind the baseline, between the centre mark and the sideline.: 2.5333333333333337, The receiver may start anywhere on their side of the net.: 1.6, When the receiver is ready, the server will serve, although the receiver must play to the pace of the server.: 2.8666666666666667, \n",
      "\n",
      "For a service to be legal, the ball must travel over the net without touching it into the diagonally opposite service box.: 5.333333333333334, If the ball hits the net but lands in the service box, this is a let or net service, which is void, and the server retakes that serve.: 6.399999999999999, The player can serve any number of let services in a point and they are always treated as voids and not as faults.: 1.9999999999999998, A fault is a serve that falls long or wide of the service box, or does not clear the net.: 3.6, There is also a \"foot fault\" when a player's foot touches the baseline or an extension of the centre mark before the ball is hit.: 3.533333333333333, If the second service, after a fault, is also a fault, the server double faults, and the receiver wins the point.: 3.2, However, if the serve is in, it is considered a legal service.: 2.0, \n",
      "\n",
      "A legal service starts a rally, in which the players alternate hitting the ball across the net.: 4.6, A legal return consists of a player hitting the ball so that it falls in the server's court, before it has bounced twice or hit any fixtures except the net.: 5.466666666666667, A player or team cannot hit the ball twice in a row.: 1.9999999999999998, The ball must travel over or round the net into the other players' court.: 3.2666666666666666, A ball that hits the net during a rally is considered a legal return as long as it crosses into the opposite side of the court.: 4.133333333333334, The first player or team to fail to make a legal return loses the point.: 1.8666666666666665, The server then moves to the other side of the service line at the start of a new point.[71]\n",
      "\n",
      ": 3.333333333333334}\n"
     ]
    }
   ],
   "source": [
    "sent_score = {}\n",
    "for sent in sent_tokens:\n",
    "    for word in sent:\n",
    "        if word.text.lower() in word_freq.keys():\n",
    "            if sent not in sent_score.keys():\n",
    "                sent_score[sent] = word_freq[word.text.lower()]\n",
    "            else:\n",
    "                sent_score[sent] += word_freq[word.text.lower()]\n",
    "print(sent_score)"
   ]
  },
  {
   "cell_type": "markdown",
   "metadata": {},
   "source": [
    "Get 30% of sentences with Maximum TF (Term Frequency)"
   ]
  },
  {
   "cell_type": "code",
   "execution_count": 39,
   "metadata": {},
   "outputs": [
    {
     "name": "stdout",
     "output_type": "stream",
     "text": [
      "12.6\n"
     ]
    }
   ],
   "source": [
    "from heapq import nlargest\n",
    "avgTF = len(sent_score) * 0.3\n",
    "print(avgTF)"
   ]
  },
  {
   "cell_type": "code",
   "execution_count": 40,
   "metadata": {},
   "outputs": [
    {
     "name": "stdout",
     "output_type": "stream",
     "text": [
      "[The line that runs across the centre of a player's side of the court is called the service line because the serve must be delivered into the area between the service line and the net on the receiving side., The net posts are 3 feet (0.91 m) outside the doubles court on each side or, for a singles net, 3 feet (0.91 m) outside the singles court on each side., Despite its name, this is not where a player legally stands when making a serve.[69]\n",
      "\n",
      "The line dividing the service line in two is called the centre line or centre service line., The boxes this centre line creates are called the service boxes; depending on a player's position, they have to hit the ball into one of these when serving.[70] A ball is out only if none of it has hit the area inside the lines, or the line, upon its first bounce., The court is 78 feet (23.77 m) long, and 27 feet (8.2 m) wide for singles matches and 36 ft (11 m) for doubles matches.[65] Additional clear space around the court is required in order for players to reach overrun balls., If the ball hits the net but lands in the service box, this is a let or net service, which is void, and the server retakes that serve., \n",
      "\n",
      "Lines\n",
      "The lines that delineate the width of the court are called the baseline (farthest back) and the service line (middle of the court)., A legal return consists of a player hitting the ball so that it falls in the server's court, before it has bounced twice or hit any fixtures except the net., \n",
      "\n",
      "For a service to be legal, the ball must travel over the net without touching it into the diagonally opposite service box., This template was modified in 1875 to the court design that exists today, with markings similar to Wingfield's version, but with the hourglass shape of his court changed to a rectangle.[67]\n",
      "\n",
      "Tennis is unusual in that it is played on a variety of surfaces.[68] Grass, clay, and hard courts of concrete or asphalt topped with acrylic are the most common., \n",
      "\n",
      "A legal service starts a rally, in which the players alternate hitting the ball across the net., The net is 3 feet 6 inches (1.07 m) high at the posts and 3 feet (0.91 m) high in the centre.[65]]\n"
     ]
    }
   ],
   "source": [
    "summary = nlargest( n = 12 , iterable= sent_score , key = sent_score.get)\n",
    "print(summary)"
   ]
  },
  {
   "cell_type": "code",
   "execution_count": 42,
   "metadata": {},
   "outputs": [
    {
     "name": "stdout",
     "output_type": "stream",
     "text": [
      "[\"The line that runs across the centre of a player's side of the court is called the service line because the serve must be delivered into the area between the service line and the net on the receiving side.\", 'The net posts are 3 feet (0.91 m) outside the doubles court on each side or, for a singles net, 3 feet (0.91 m) outside the singles court on each side.', 'Despite its name, this is not where a player legally stands when making a serve.[69]\\n\\nThe line dividing the service line in two is called the centre line or centre service line.', \"The boxes this centre line creates are called the service boxes; depending on a player's position, they have to hit the ball into one of these when serving.[70] A ball is out only if none of it has hit the area inside the lines, or the line, upon its first bounce.\", 'The court is 78 feet (23.77 m) long, and 27 feet (8.2 m) wide for singles matches and 36 ft (11 m) for doubles matches.[65] Additional clear space around the court is required in order for players to reach overrun balls.', 'If the ball hits the net but lands in the service box, this is a let or net service, which is void, and the server retakes that serve.', '\\n\\nLines\\nThe lines that delineate the width of the court are called the baseline (farthest back) and the service line (middle of the court).', \"A legal return consists of a player hitting the ball so that it falls in the server's court, before it has bounced twice or hit any fixtures except the net.\", '\\n\\nFor a service to be legal, the ball must travel over the net without touching it into the diagonally opposite service box.', \"This template was modified in 1875 to the court design that exists today, with markings similar to Wingfield's version, but with the hourglass shape of his court changed to a rectangle.[67]\\n\\nTennis is unusual in that it is played on a variety of surfaces.[68] Grass, clay, and hard courts of concrete or asphalt topped with acrylic are the most common.\", '\\n\\nA legal service starts a rally, in which the players alternate hitting the ball across the net.', 'The net is 3 feet 6 inches (1.07 m) high at the posts and 3 feet (0.91 m) high in the centre.[65]']\n"
     ]
    }
   ],
   "source": [
    "final_summary = [word.text for word in summary]\n",
    "print(final_summary)"
   ]
  },
  {
   "cell_type": "code",
   "execution_count": 44,
   "metadata": {},
   "outputs": [
    {
     "name": "stdout",
     "output_type": "stream",
     "text": [
      "The line that runs across the centre of a player's side of the court is called the service line because the serve must be delivered into the area between the service line and the net on the receiving side. The net posts are 3 feet (0.91 m) outside the doubles court on each side or, for a singles net, 3 feet (0.91 m) outside the singles court on each side. Despite its name, this is not where a player legally stands when making a serve.[69]\n",
      "\n",
      "The line dividing the service line in two is called the centre line or centre service line. The boxes this centre line creates are called the service boxes; depending on a player's position, they have to hit the ball into one of these when serving.[70] A ball is out only if none of it has hit the area inside the lines, or the line, upon its first bounce. The court is 78 feet (23.77 m) long, and 27 feet (8.2 m) wide for singles matches and 36 ft (11 m) for doubles matches.[65] Additional clear space around the court is required in order for players to reach overrun balls. If the ball hits the net but lands in the service box, this is a let or net service, which is void, and the server retakes that serve. \n",
      "\n",
      "Lines\n",
      "The lines that delineate the width of the court are called the baseline (farthest back) and the service line (middle of the court). A legal return consists of a player hitting the ball so that it falls in the server's court, before it has bounced twice or hit any fixtures except the net. \n",
      "\n",
      "For a service to be legal, the ball must travel over the net without touching it into the diagonally opposite service box. This template was modified in 1875 to the court design that exists today, with markings similar to Wingfield's version, but with the hourglass shape of his court changed to a rectangle.[67]\n",
      "\n",
      "Tennis is unusual in that it is played on a variety of surfaces.[68] Grass, clay, and hard courts of concrete or asphalt topped with acrylic are the most common. \n",
      "\n",
      "A legal service starts a rally, in which the players alternate hitting the ball across the net. The net is 3 feet 6 inches (1.07 m) high at the posts and 3 feet (0.91 m) high in the centre.[65]\n"
     ]
    }
   ],
   "source": [
    "summary = \" \".join(final_summary)\n",
    "print(summary)"
   ]
  },
  {
   "cell_type": "code",
   "execution_count": 45,
   "metadata": {},
   "outputs": [
    {
     "name": "stdout",
     "output_type": "stream",
     "text": [
      "0.42438148443735035\n"
     ]
    }
   ],
   "source": [
    "print(len(summary)/len(text))"
   ]
  }
 ],
 "metadata": {
  "interpreter": {
   "hash": "31f2aee4e71d21fbe5cf8b01ff0e069b9275f58929596ceb00d14d90e3e16cd6"
  },
  "kernelspec": {
   "display_name": "Python 3.6.9 64-bit",
   "language": "python",
   "name": "python3"
  },
  "language_info": {
   "codemirror_mode": {
    "name": "ipython",
    "version": 3
   },
   "file_extension": ".py",
   "mimetype": "text/x-python",
   "name": "python",
   "nbconvert_exporter": "python",
   "pygments_lexer": "ipython3",
   "version": "3.6.9"
  },
  "orig_nbformat": 4
 },
 "nbformat": 4,
 "nbformat_minor": 2
}
